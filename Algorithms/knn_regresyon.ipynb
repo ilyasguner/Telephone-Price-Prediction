{
 "cells": [
  {
   "cell_type": "code",
   "execution_count": 1,
   "id": "8670604f",
   "metadata": {},
   "outputs": [],
   "source": [
    "import numpy as np \n",
    "import matplotlib.pyplot as plt\n",
    "import pandas as pd\n",
    "import warnings\n",
    "warnings.filterwarnings('ignore')"
   ]
  },
  {
   "cell_type": "code",
   "execution_count": 2,
   "id": "1da68f4a",
   "metadata": {},
   "outputs": [],
   "source": [
    "dataset=pd.read_csv(\"./data/preprocessing_phones.csv\")"
   ]
  },
  {
   "cell_type": "code",
   "execution_count": 3,
   "id": "9f530465",
   "metadata": {},
   "outputs": [
    {
     "data": {
      "text/html": [
       "<div>\n",
       "<style scoped>\n",
       "    .dataframe tbody tr th:only-of-type {\n",
       "        vertical-align: middle;\n",
       "    }\n",
       "\n",
       "    .dataframe tbody tr th {\n",
       "        vertical-align: top;\n",
       "    }\n",
       "\n",
       "    .dataframe thead th {\n",
       "        text-align: right;\n",
       "    }\n",
       "</style>\n",
       "<table border=\"1\" class=\"dataframe\">\n",
       "  <thead>\n",
       "    <tr style=\"text-align: right;\">\n",
       "      <th></th>\n",
       "      <th>cpu</th>\n",
       "      <th>dahili_hafiza</th>\n",
       "      <th>ekran_boyutu</th>\n",
       "      <th>kamera_cozunurlugu</th>\n",
       "      <th>mobil_baglanti_hizi</th>\n",
       "      <th>pil_gucu</th>\n",
       "      <th>ram_kapasitesi</th>\n",
       "      <th>on_kamera_cozunurluk</th>\n",
       "      <th>isletim_sistemi</th>\n",
       "      <th>brands</th>\n",
       "      <th>price</th>\n",
       "    </tr>\n",
       "  </thead>\n",
       "  <tbody>\n",
       "    <tr>\n",
       "      <th>0</th>\n",
       "      <td>2.5</td>\n",
       "      <td>128</td>\n",
       "      <td>6.0</td>\n",
       "      <td>20</td>\n",
       "      <td>5.0</td>\n",
       "      <td>4000</td>\n",
       "      <td>4</td>\n",
       "      <td>15</td>\n",
       "      <td>0</td>\n",
       "      <td>19</td>\n",
       "      <td>6399.0</td>\n",
       "    </tr>\n",
       "    <tr>\n",
       "      <th>1</th>\n",
       "      <td>3.2</td>\n",
       "      <td>128</td>\n",
       "      <td>6.6</td>\n",
       "      <td>63</td>\n",
       "      <td>5.0</td>\n",
       "      <td>5000</td>\n",
       "      <td>8</td>\n",
       "      <td>40</td>\n",
       "      <td>0</td>\n",
       "      <td>19</td>\n",
       "      <td>10299.0</td>\n",
       "    </tr>\n",
       "    <tr>\n",
       "      <th>2</th>\n",
       "      <td>3.5</td>\n",
       "      <td>128</td>\n",
       "      <td>8.0</td>\n",
       "      <td>60</td>\n",
       "      <td>4.5</td>\n",
       "      <td>5000</td>\n",
       "      <td>8</td>\n",
       "      <td>10</td>\n",
       "      <td>0</td>\n",
       "      <td>25</td>\n",
       "      <td>7549.0</td>\n",
       "    </tr>\n",
       "    <tr>\n",
       "      <th>3</th>\n",
       "      <td>3.2</td>\n",
       "      <td>128</td>\n",
       "      <td>6.1</td>\n",
       "      <td>15</td>\n",
       "      <td>4.5</td>\n",
       "      <td>2815</td>\n",
       "      <td>4</td>\n",
       "      <td>15</td>\n",
       "      <td>1</td>\n",
       "      <td>1</td>\n",
       "      <td>28299.0</td>\n",
       "    </tr>\n",
       "    <tr>\n",
       "      <th>4</th>\n",
       "      <td>2.0</td>\n",
       "      <td>128</td>\n",
       "      <td>6.7</td>\n",
       "      <td>10</td>\n",
       "      <td>4.5</td>\n",
       "      <td>5000</td>\n",
       "      <td>4</td>\n",
       "      <td>60</td>\n",
       "      <td>0</td>\n",
       "      <td>18</td>\n",
       "      <td>3029.0</td>\n",
       "    </tr>\n",
       "  </tbody>\n",
       "</table>\n",
       "</div>"
      ],
      "text/plain": [
       "   cpu  dahili_hafiza  ekran_boyutu  kamera_cozunurlugu  mobil_baglanti_hizi  \\\n",
       "0  2.5            128           6.0                  20                  5.0   \n",
       "1  3.2            128           6.6                  63                  5.0   \n",
       "2  3.5            128           8.0                  60                  4.5   \n",
       "3  3.2            128           6.1                  15                  4.5   \n",
       "4  2.0            128           6.7                  10                  4.5   \n",
       "\n",
       "   pil_gucu  ram_kapasitesi  on_kamera_cozunurluk  isletim_sistemi  brands  \\\n",
       "0      4000               4                    15                0      19   \n",
       "1      5000               8                    40                0      19   \n",
       "2      5000               8                    10                0      25   \n",
       "3      2815               4                    15                1       1   \n",
       "4      5000               4                    60                0      18   \n",
       "\n",
       "     price  \n",
       "0   6399.0  \n",
       "1  10299.0  \n",
       "2   7549.0  \n",
       "3  28299.0  \n",
       "4   3029.0  "
      ]
     },
     "execution_count": 3,
     "metadata": {},
     "output_type": "execute_result"
    }
   ],
   "source": [
    "dataset.head()"
   ]
  },
  {
   "cell_type": "code",
   "execution_count": 4,
   "id": "51d14adf",
   "metadata": {},
   "outputs": [],
   "source": [
    "X=dataset.iloc[:,0:10].values\n",
    "y=dataset.iloc[:,10].values\n",
    "y=y.reshape(-1,1)"
   ]
  },
  {
   "cell_type": "code",
   "execution_count": 5,
   "id": "9b96e0d6",
   "metadata": {},
   "outputs": [],
   "source": [
    "from sklearn.model_selection import train_test_split\n",
    "X_train,X_test,y_train,y_test=train_test_split(X,y,test_size=0.2,random_state=0)"
   ]
  },
  {
   "cell_type": "code",
   "execution_count": 7,
   "id": "4ddc5956",
   "metadata": {},
   "outputs": [],
   "source": [
    "from sklearn.preprocessing import StandardScaler\n",
    "from sklearn.neighbors import KNeighborsRegressor\n",
    "\n",
    "scaler = StandardScaler()\n",
    "X_train = scaler.fit_transform(X_train)\n",
    "x_test = scaler.transform(X_test)\n",
    "\n",
    "k_degeri = 5  # K değeri (ayarlanabilir)\n",
    "model = KNeighborsRegressor(n_neighbors=k_degeri)\n",
    "model.fit(X_train, y_train)\n",
    "\n",
    "y_tahmin = model.predict(X_test)\n",
    "\n"
   ]
  },
  {
   "cell_type": "code",
   "execution_count": 8,
   "id": "15d1ab42",
   "metadata": {},
   "outputs": [
    {
     "name": "stdout",
     "output_type": "stream",
     "text": [
      "root mean squared error:  29008.442064897972\n",
      "Coefficient of determination R^2:  -0.37045992494856117\n"
     ]
    }
   ],
   "source": [
    "from sklearn.metrics import r2_score,mean_squared_error\n",
    "knn_rmse = np.sqrt(mean_squared_error(y_test, y_tahmin))\n",
    "knn_r2= r2_score(y_test, y_tahmin)\n",
    "\n",
    "print(\"root mean squared error: \",knn_rmse)\n",
    "print(\"Coefficient of determination R^2: \",knn_r2)"
   ]
  },
  {
   "cell_type": "code",
   "execution_count": 9,
   "id": "c1b1ebf9",
   "metadata": {},
   "outputs": [
    {
     "data": {
      "text/plain": [
       "['./Models/phones_knn.pkl']"
      ]
     },
     "execution_count": 9,
     "metadata": {},
     "output_type": "execute_result"
    }
   ],
   "source": [
    "import joblib\n",
    "joblib.dump(model,\"./Models/phones_knn.pkl\")"
   ]
  },
  {
   "cell_type": "code",
   "execution_count": null,
   "id": "d5f9ad66",
   "metadata": {},
   "outputs": [],
   "source": []
  }
 ],
 "metadata": {
  "kernelspec": {
   "display_name": "Python 3 (ipykernel)",
   "language": "python",
   "name": "python3"
  },
  "language_info": {
   "codemirror_mode": {
    "name": "ipython",
    "version": 3
   },
   "file_extension": ".py",
   "mimetype": "text/x-python",
   "name": "python",
   "nbconvert_exporter": "python",
   "pygments_lexer": "ipython3",
   "version": "3.11.5"
  }
 },
 "nbformat": 4,
 "nbformat_minor": 5
}
