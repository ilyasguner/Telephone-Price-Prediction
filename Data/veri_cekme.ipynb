{
 "cells": [
  {
   "cell_type": "code",
   "execution_count": 1,
   "id": "281f09ca",
   "metadata": {},
   "outputs": [],
   "source": [
    "import pandas as pd\n",
    "import numpy as np\n",
    "import requests\n",
    "from bs4 import BeautifulSoup"
   ]
  },
  {
   "cell_type": "code",
   "execution_count": null,
   "id": "b00919d7",
   "metadata": {
    "scrolled": true
   },
   "outputs": [
    {
     "name": "stdout",
     "output_type": "stream",
     "text": [
      "https://www.trendyol.com//xiaomi/redmi-12-128-gb-8-gb-ram-gumus-cep-telefonu-xiaomi-turkiye-garantili-p-765278800\n",
      "https://www.trendyol.com//xiaomi/redmi-12c-128-gb-4-gb-ram-gri-cep-telefonu-xiaomi-turkiye-garantili-p-666265944\n"
     ]
    }
   ],
   "source": [
    "url_list=[]\n",
    "prices_list=[]\n",
    "prop_titles=[]\n",
    "prop_values=[]\n",
    "brands_list=[]\n",
    "\n",
    "for i in range(1,50):\n",
    "    url=\"https://www.trendyol.com/cep-telefonu-x-c103498?pi=\"+str(i)\n",
    "    r=requests.get(url)\n",
    "    source=BeautifulSoup(r.content,\"lxml\")\n",
    "    \n",
    "    urls=source.find_all(\"div\",attrs={\"class\":\"p-card-chldrn-cntnr card-border\"})\n",
    "    for url in urls:\n",
    "        url_telephone=\"https://www.trendyol.com/\"+url.a.get(\"href\")\n",
    "        url_list.append(url_telephone)\n",
    "       \n",
    "        print(url_telephone)\n",
    "\n",
    "        \n",
    "        r_telephone=requests.get(url_telephone)\n",
    "        source_telephone=BeautifulSoup(r_telephone.content,\"lxml\")\n",
    "        \n",
    "        properties=source_telephone.find_all(\"li\",attrs={\"class\":\"detail-attr-item\"})\n",
    "        for prop in properties:\n",
    "            prop_title=prop.find(\"span\").text\n",
    "            prop_value=prop.find(\"b\").text\n",
    "            prop_titles.append(prop_title)\n",
    "            prop_values.append(prop_value)\n",
    "        \n",
    "        \n",
    "        \n",
    "    brands=source.find_all(\"span\",attrs={\"class\":\"prdct-desc-cntnr-ttl\"})      \n",
    "    for brand in brands:\n",
    "        brands_list.append(brand.text)\n",
    "        print(brand.text)\n",
    "        \n",
    "        \n",
    "    prices=source.find_all(\"div\",attrs={\"class\":\"prc-box-dscntd\"})\n",
    "    for price in prices:\n",
    "        prices_list.append(price.text)\n",
    "        print(price.text)\n",
    "        \n",
    " \n",
    "print(str(len(url_list))+\" adet link bulundu\")\n",
    "print(str(len(prices_list))+\" adet fiyat bulundu\")\n",
    "print(str(len(prop_titles))+\" adet özellik başlığı bulundu\")\n",
    "print(str(len(prop_values))+\" adet özellik verisi bulundu\")"
   ]
  },
  {
   "cell_type": "code",
   "execution_count": null,
   "id": "819d2f52",
   "metadata": {},
   "outputs": [],
   "source": [
    "df_urls=pd.DataFrame()\n",
    "df_urls[\"urls\"]=url_list\n",
    "df_urls[\"prices\"]=prices_list\n",
    "df_urls[\"brands\"]=brands_list"
   ]
  },
  {
   "cell_type": "code",
   "execution_count": null,
   "id": "3d6bbd0a",
   "metadata": {},
   "outputs": [],
   "source": [
    "df_urls.head()"
   ]
  },
  {
   "cell_type": "code",
   "execution_count": null,
   "id": "96a50aca",
   "metadata": {},
   "outputs": [],
   "source": [
    "phones=len(url_list)"
   ]
  },
  {
   "cell_type": "code",
   "execution_count": null,
   "id": "cf318cc5",
   "metadata": {},
   "outputs": [],
   "source": [
    "columns=np.array(prop_titles)\n",
    "columns=np.unique(columns)"
   ]
  },
  {
   "cell_type": "code",
   "execution_count": null,
   "id": "2c71d7d0",
   "metadata": {},
   "outputs": [],
   "source": [
    "df=pd.DataFrame(columns=columns)\n",
    "df[\"url\"]=url_list\n",
    "df[\"price\"]=prices_list\n",
    "df[\"brands\"]=brands_list"
   ]
  },
  {
   "cell_type": "code",
   "execution_count": null,
   "id": "dd8b1798",
   "metadata": {},
   "outputs": [],
   "source": [
    "df.head()"
   ]
  },
  {
   "cell_type": "code",
   "execution_count": null,
   "id": "0cdaca61",
   "metadata": {
    "scrolled": true
   },
   "outputs": [],
   "source": [
    "for i in range(0,phones):\n",
    "    url=df[\"url\"].loc[i]\n",
    "    r=requests.get(url)\n",
    "    source=BeautifulSoup(r.content,\"lxml\")\n",
    "    print(str(i))\n",
    "    \n",
    "    properties=source.find_all(\"li\",attrs={\"class\":\"detail-attr-item\"})\n",
    "    for prop in properties:\n",
    "        prop_title=prop.find(\"span\").text\n",
    "        prop_value=prop.find(\"b\").text\n",
    "        df[prop_title].loc[i]=prop_value"
   ]
  },
  {
   "cell_type": "code",
   "execution_count": null,
   "id": "9699cda2",
   "metadata": {},
   "outputs": [],
   "source": [
    "df.head()"
   ]
  },
  {
   "cell_type": "code",
   "execution_count": null,
   "id": "d48f54a8",
   "metadata": {},
   "outputs": [],
   "source": [
    "df.to_csv(\"./data/telephones_data.csv\",index=False)"
   ]
  }
 ],
 "metadata": {
  "kernelspec": {
   "display_name": "Python 3 (ipykernel)",
   "language": "python",
   "name": "python3"
  },
  "language_info": {
   "codemirror_mode": {
    "name": "ipython",
    "version": 3
   },
   "file_extension": ".py",
   "mimetype": "text/x-python",
   "name": "python",
   "nbconvert_exporter": "python",
   "pygments_lexer": "ipython3",
   "version": "3.11.5"
  }
 },
 "nbformat": 4,
 "nbformat_minor": 5
}
